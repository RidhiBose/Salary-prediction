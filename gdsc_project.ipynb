{
 "cells": [
  {
   "cell_type": "code",
   "execution_count": 96,
   "id": "ec808355",
   "metadata": {},
   "outputs": [],
   "source": [
    "import copy, math\n",
    "import numpy as np\n",
    "from sklearn.linear_model import LinearRegression\n",
    "import matplotlib.pyplot as plt\n",
    "np.set_printoptions(precision=2)"
   ]
  },
  {
   "cell_type": "code",
   "execution_count": 97,
   "id": "7af6fbc9",
   "metadata": {},
   "outputs": [
    {
     "name": "stdout",
     "output_type": "stream",
     "text": [
      "Number of values in years_of_experience: 60\n"
     ]
    }
   ],
   "source": [
    "years_of_experience = np.array([2, 5, 8, 3, 6, 10, 4, 7, 1, 9, 3, 4, 6, 2, 8, 5, 7, 10, 9, 1, 2, 5, 8, 3, 6, 10, 4, 7, 1, 9, 3, 4, 6, 2, 8, 5, 7, 10, 9, 1, 2, 5, 8, 3, 6, 10, 4, 7, 1, 9, 3, 4, 6, 2, 8, 5, 7, 10, 9, 1])\n",
    "education_level = np.array([11, 12, 13, 14, 11, 12, 13, 14, 11, 12, 13, 14, 11, 12, 13, 14, 11, 12, 13, 14, 11, 12, 13, 14, 11, 12, 13, 14, 11, 12, 13, 14, 11, 12, 13, 14, 11, 12, 13, 14, 11, 12, 13, 14, 11, 12, 13, 14, 11, 12, 13, 14, 11, 12, 13, 14, 11, 12, 13, 14])\n",
    "job_performance_rating = np.array([4.5,3.0,4.8,2.2,4.3,5.0,3.7,3.2,2.9,4.9,3.3,3.4,4.6,2.1,4.7,4.0,4.8,4.9,4.2,2.5,3.6,3.9,4.8,2.7,4.4,4.9,4.5,3.8,2.6,4.9,3.4,3.8,4.2,2.0,4.5,4.1,4.3,4.8,4.6,2.8,3.3,3.5,4.9,2.4,4.7,4.9,4.1,3.5,2.1,4.9,3.6,3.9,4.4,2.3,4.9,4.2,4.3,4.7,4.5,3.3])\n",
    "age = np.array([27, 32, 42, 22, 35, 47, 29, 38, 24, 45, 28, 30, 36, 25, 40, 33, 37, 48, 41, 23, 27, 32, 42, 22, 35, 47, 29, 38, 24, 45, 28, 30, 36, 25, 40, 33, 37, 48, 41, 23, 27, 32, 42, 22, 35, 47, 29, 38, 24, 45, 28, 30, 36, 25, 40, 33, 37, 48, 41, 23])\n",
    "num_proj = np.array([3, 4, 6, 2, 5, 7, 4, 6, 2, 7, 4, 5, 6, 3, 7, 5, 6, 8, 7, 2, 3, 4, 6, 2, 5, 7, 4, 6, 2, 7, 4, 5, 6, 3, 7, 5, 6, 8, 7, 2, 3, 4, 6, 2, 5, 7, 4, 6, 2, 7, 4, 5, 6, 3, 7, 5, 6, 8, 7,1])\n",
    "\n",
    "salary = np.array([65000,75000,95000,55000,85000,105000,70000,90000,55000,110000,65000,68000,85000,52000,105000,75000,88000,120000,110000,55000,60000,75000,97000,55000,88000,108000,70000,71000,55000,112000,64000,69000,93000,53000,107000,76000,89000,123000,111000,55000,60000,75000,97000,46000,88000,108000,70000,71000,55000,112000,64000,69000,93000,53000,107000,76000,89000,123000,111000,55000\n",
    "])\n",
    "num_values = len(salary)\n",
    "print(\"Number of values in years_of_experience:\", num_values)"
   ]
  },
  {
   "cell_type": "code",
   "execution_count": 98,
   "id": "56882af9",
   "metadata": {},
   "outputs": [
    {
     "name": "stdout",
     "output_type": "stream",
     "text": [
      "X Shape: (60, 5), X Type:<class 'numpy.ndarray'>)\n",
      "[[ 2.  11.   4.5 27.   3. ]\n",
      " [ 5.  12.   3.  32.   4. ]\n",
      " [ 8.  13.   4.8 42.   6. ]\n",
      " [ 3.  14.   2.2 22.   2. ]\n",
      " [ 6.  11.   4.3 35.   5. ]\n",
      " [10.  12.   5.  47.   7. ]\n",
      " [ 4.  13.   3.7 29.   4. ]\n",
      " [ 7.  14.   3.2 38.   6. ]\n",
      " [ 1.  11.   2.9 24.   2. ]\n",
      " [ 9.  12.   4.9 45.   7. ]\n",
      " [ 3.  13.   3.3 28.   4. ]\n",
      " [ 4.  14.   3.4 30.   5. ]\n",
      " [ 6.  11.   4.6 36.   6. ]\n",
      " [ 2.  12.   2.1 25.   3. ]\n",
      " [ 8.  13.   4.7 40.   7. ]\n",
      " [ 5.  14.   4.  33.   5. ]\n",
      " [ 7.  11.   4.8 37.   6. ]\n",
      " [10.  12.   4.9 48.   8. ]\n",
      " [ 9.  13.   4.2 41.   7. ]\n",
      " [ 1.  14.   2.5 23.   2. ]\n",
      " [ 2.  11.   3.6 27.   3. ]\n",
      " [ 5.  12.   3.9 32.   4. ]\n",
      " [ 8.  13.   4.8 42.   6. ]\n",
      " [ 3.  14.   2.7 22.   2. ]\n",
      " [ 6.  11.   4.4 35.   5. ]\n",
      " [10.  12.   4.9 47.   7. ]\n",
      " [ 4.  13.   4.5 29.   4. ]\n",
      " [ 7.  14.   3.8 38.   6. ]\n",
      " [ 1.  11.   2.6 24.   2. ]\n",
      " [ 9.  12.   4.9 45.   7. ]\n",
      " [ 3.  13.   3.4 28.   4. ]\n",
      " [ 4.  14.   3.8 30.   5. ]\n",
      " [ 6.  11.   4.2 36.   6. ]\n",
      " [ 2.  12.   2.  25.   3. ]\n",
      " [ 8.  13.   4.5 40.   7. ]\n",
      " [ 5.  14.   4.1 33.   5. ]\n",
      " [ 7.  11.   4.3 37.   6. ]\n",
      " [10.  12.   4.8 48.   8. ]\n",
      " [ 9.  13.   4.6 41.   7. ]\n",
      " [ 1.  14.   2.8 23.   2. ]\n",
      " [ 2.  11.   3.3 27.   3. ]\n",
      " [ 5.  12.   3.5 32.   4. ]\n",
      " [ 8.  13.   4.9 42.   6. ]\n",
      " [ 3.  14.   2.4 22.   2. ]\n",
      " [ 6.  11.   4.7 35.   5. ]\n",
      " [10.  12.   4.9 47.   7. ]\n",
      " [ 4.  13.   4.1 29.   4. ]\n",
      " [ 7.  14.   3.5 38.   6. ]\n",
      " [ 1.  11.   2.1 24.   2. ]\n",
      " [ 9.  12.   4.9 45.   7. ]\n",
      " [ 3.  13.   3.6 28.   4. ]\n",
      " [ 4.  14.   3.9 30.   5. ]\n",
      " [ 6.  11.   4.4 36.   6. ]\n",
      " [ 2.  12.   2.3 25.   3. ]\n",
      " [ 8.  13.   4.9 40.   7. ]\n",
      " [ 5.  14.   4.2 33.   5. ]\n",
      " [ 7.  11.   4.3 37.   6. ]\n",
      " [10.  12.   4.7 48.   8. ]\n",
      " [ 9.  13.   4.5 41.   7. ]\n",
      " [ 1.  14.   3.3 23.   1. ]]\n",
      "y Shape: (60,), y Type:<class 'numpy.ndarray'>)\n",
      "[ 65000  75000  95000  55000  85000 105000  70000  90000  55000 110000\n",
      "  65000  68000  85000  52000 105000  75000  88000 120000 110000  55000\n",
      "  60000  75000  97000  55000  88000 108000  70000  71000  55000 112000\n",
      "  64000  69000  93000  53000 107000  76000  89000 123000 111000  55000\n",
      "  60000  75000  97000  46000  88000 108000  70000  71000  55000 112000\n",
      "  64000  69000  93000  53000 107000  76000  89000 123000 111000  55000]\n",
      "Weight for Education Level: [ 3033.83 -1374.97  2874.59   789.66  2027.59]\n",
      "Bias (Intercept): 33709.92475508088\n"
     ]
    }
   ],
   "source": [
    "x = np.column_stack((years_of_experience, education_level, job_performance_rating, age, num_proj))\n",
    "print(f\"X Shape: {x.shape}, X Type:{type(x)})\")\n",
    "print(x)\n",
    "print(f\"y Shape: {salary.shape}, y Type:{type(salary)})\")\n",
    "print(salary)\n",
    "\n",
    "model = LinearRegression()\n",
    "model.fit(x, salary)\n",
    "weights = model.coef_\n",
    "bias = model.intercept_\n",
    "print(\"Weight for Education Level:\", weights)\n",
    "print(\"Bias (Intercept):\", bias)"
   ]
  },
  {
   "cell_type": "code",
   "execution_count": 99,
   "id": "df97e463",
   "metadata": {},
   "outputs": [],
   "source": [
    "def compute_cost(X, y, w, b):\n",
    "    m = X.shape[0]\n",
    "    cost = 0.0\n",
    "    for i in range(m):\n",
    "        f_wb_i = np.dot(X[i], w) + b\n",
    "        cost = cost + (f_wb_i - y[i])**2\n",
    "    cost = cost / (2 * m)\n",
    "    return cost"
   ]
  },
  {
   "cell_type": "code",
   "execution_count": 100,
   "id": "c6aaec00",
   "metadata": {
    "scrolled": false
   },
   "outputs": [
    {
     "name": "stdout",
     "output_type": "stream",
     "text": [
      "Cost at optimal w : 14629884.624043796\n"
     ]
    }
   ],
   "source": [
    "cost = compute_cost(x, salary, weights, bias)\n",
    "print(f'Cost at optimal w : {cost}')"
   ]
  },
  {
   "cell_type": "code",
   "execution_count": 101,
   "id": "a1fafaa7",
   "metadata": {},
   "outputs": [],
   "source": [
    "def compute_gradient(X, y, w, b):\n",
    "    m,n = X.shape\n",
    "    dj_dw=np.zeros((n,))\n",
    "    dj_db = 0.\n",
    "    \n",
    "    for i in range(m):\n",
    "        err = (np.dot(X[i],w) + b) - y[i]\n",
    "        for j in range(n):\n",
    "            dj_dw[j] = dj_dw[j] + err * X[i,j]\n",
    "        dj_db = dj_db + err\n",
    "    dj_dw = dj_dw / m\n",
    "    dj_db = dj_db / m\n",
    "    \n",
    "    return dj_db, dj_dw"
   ]
  },
  {
   "cell_type": "code",
   "execution_count": 102,
   "id": "d0a18f26",
   "metadata": {},
   "outputs": [
    {
     "name": "stdout",
     "output_type": "stream",
     "text": [
      "dj_db at initial w,b: -6.5483618527650835e-12\n",
      "dj_dw at initial w,b: [-4.29e-11 -8.37e-11 -2.75e-11 -2.46e-10 -3.57e-11]\n"
     ]
    }
   ],
   "source": [
    "tmp_dj_db, tmp_dj_dw = compute_gradient(x, salary, weights, bias)\n",
    "print(f'dj_db at initial w,b: {tmp_dj_db}')\n",
    "print(f'dj_dw at initial w,b: {tmp_dj_dw}')"
   ]
  },
  {
   "cell_type": "code",
   "execution_count": 103,
   "id": "003b9731",
   "metadata": {},
   "outputs": [],
   "source": [
    "def gradient_descent(X, y, w_in, b_in, cost_function, gradient_function, alpha, num_iters):\n",
    "    J_history = []\n",
    "    w = copy.deepcopy(w_in)\n",
    "    b = b_in\n",
    "    \n",
    "    for i in range(num_iters):\n",
    "        dj_db,dj_dw = gradient_function(X, y, w, b)\n",
    "        w = w - alpha * dj_dw\n",
    "        b = b - alpha * dj_db\n",
    "        \n",
    "        if i<100000:\n",
    "            J_history.append( cost_function(X, y, w, b))\n",
    "            \n",
    "        if i% math.ceil(num_iters / 10) == 0:\n",
    "            print(f\"Iteration {i:4d}: Cost {J_history[-1]:8.2f}  \")\n",
    "                  \n",
    "    return w, b, J_history"
   ]
  },
  {
   "cell_type": "code",
   "execution_count": 104,
   "id": "0dc64606",
   "metadata": {},
   "outputs": [
    {
     "name": "stdout",
     "output_type": "stream",
     "text": [
      "Iteration    0: Cost 3451029356.27  \n",
      "Iteration  100: Cost 270894565.88  \n",
      "Iteration  200: Cost 41958633.23  \n",
      "Iteration  300: Cost 25351478.73  \n",
      "Iteration  400: Cost 24023330.57  \n",
      "Iteration  500: Cost 23797259.35  \n",
      "Iteration  600: Cost 23653237.17  \n",
      "Iteration  700: Cost 23517818.89  \n",
      "Iteration  800: Cost 23385663.08  \n",
      "Iteration  900: Cost 23256329.32  \n",
      "b,w found by gradient descent: 50.66,[ 396.09  610.8   233.94 2040.2   326.44] \n",
      "prediction: 64679.15, target value: 65000\n",
      "prediction: 76654.75, target value: 75000\n",
      "prediction: 99929.81, target value: 95000\n",
      "prediction: 55842.11, target value: 55000\n",
      "prediction: 83191.21, target value: 85000\n",
      "prediction: 110685.43, target value: 105000\n",
      "prediction: 70912.61, target value: 70000\n",
      "prediction: 91609.41, target value: 90000\n",
      "prediction: 57461.71, target value: 55000\n",
      "prediction: 106185.54, target value: 110000\n",
      "prediction: 68382.75, target value: 65000\n",
      "prediction: 73819.88, target value: 68000\n",
      "prediction: 85628.04, target value: 85000\n",
      "prediction: 60648.08, target value: 52000\n",
      "prediction: 96152.45, target value: 105000\n",
      "prediction: 80476.93, target value: 75000\n",
      "prediction: 88111.12, target value: 88000\n",
      "prediction: 113028.68, target value: 120000\n",
      "prediction: 98471.77, target value: 110000\n",
      "prediction: 57160.33, target value: 55000\n",
      "prediction: 64468.60, target value: 60000\n",
      "prediction: 76865.30, target value: 75000\n",
      "prediction: 99929.81, target value: 97000\n",
      "prediction: 55959.08, target value: 55000\n",
      "prediction: 83214.61, target value: 88000\n",
      "prediction: 110662.03, target value: 108000\n",
      "prediction: 71099.77, target value: 70000\n",
      "prediction: 91749.77, target value: 71000\n",
      "prediction: 57391.53, target value: 55000\n",
      "prediction: 106185.54, target value: 112000\n",
      "prediction: 68406.14, target value: 64000\n",
      "prediction: 73913.45, target value: 69000\n",
      "prediction: 85534.46, target value: 93000\n",
      "prediction: 60624.69, target value: 53000\n",
      "prediction: 96105.67, target value: 107000\n",
      "prediction: 80500.33, target value: 76000\n",
      "prediction: 87994.14, target value: 89000\n",
      "prediction: 113005.28, target value: 123000\n",
      "prediction: 98565.35, target value: 111000\n",
      "prediction: 57230.51, target value: 55000\n",
      "prediction: 64398.42, target value: 60000\n",
      "prediction: 76771.72, target value: 75000\n",
      "prediction: 99953.21, target value: 97000\n",
      "prediction: 55888.90, target value: 46000\n",
      "prediction: 83284.79, target value: 88000\n",
      "prediction: 110662.03, target value: 108000\n",
      "prediction: 71006.19, target value: 70000\n",
      "prediction: 91679.59, target value: 71000\n",
      "prediction: 57274.56, target value: 55000\n",
      "prediction: 106185.54, target value: 112000\n",
      "prediction: 68452.93, target value: 64000\n",
      "prediction: 73936.85, target value: 69000\n",
      "prediction: 85581.25, target value: 93000\n",
      "prediction: 60694.87, target value: 53000\n",
      "prediction: 96199.24, target value: 107000\n",
      "prediction: 80523.72, target value: 76000\n",
      "prediction: 87994.14, target value: 89000\n",
      "prediction: 112981.89, target value: 123000\n",
      "prediction: 98541.95, target value: 111000\n",
      "prediction: 57021.04, target value: 55000\n"
     ]
    }
   ],
   "source": [
    "initial_w = np.zeros_like(weights)\n",
    "initial_b = 0.\n",
    "iterations = 1000\n",
    "alpha = 9e-6\n",
    "w_final, b_final, J_hist = gradient_descent(x, salary, initial_w, initial_b, compute_cost, compute_gradient, alpha, iterations)\n",
    "print(f\"b,w found by gradient descent: {b_final:0.2f},{w_final} \")\n",
    "m,_ = x.shape\n",
    "for i in range(m):\n",
    "    print(f\"prediction: {np.dot(x[i], w_final) + b_final:0.2f}, target value: {salary[i]}\")"
   ]
  },
  {
   "cell_type": "code",
   "execution_count": 109,
   "id": "0bda93a4",
   "metadata": {
    "scrolled": true
   },
   "outputs": [
    {
     "name": "stdout",
     "output_type": "stream",
     "text": [
      "Enter years of experience, education level, job performance, age, no of proj (e.g., 5.0 12.0 3.0 32.0 4.0): 5.0 12.0 3.0 32.0 4.0\n",
      "new_data: [5.0, 12.0, 3.0, 32.0, 4.0]\n",
      "Predicted values: [74382.73]\n"
     ]
    }
   ],
   "source": [
    "user_input = input(\"Enter a list of numbers separated by spaces (e.g., 5.0 12.0 3.0 32.0 4.0): \")\n",
    "\n",
    "user_input = user_input.split()\n",
    "\n",
    "new_data = [float(value) for value in user_input]\n",
    "\n",
    "if len(new_data) == 5:\n",
    "    print(\"new_data:\", new_data)\n",
    "\n",
    "    predictions = model.predict([new_data])\n",
    "    print(\"Predicted values:\", predictions)\n",
    "else:\n",
    "    print(\"Input should contain exactly 5 values.\")\n"
   ]
  },
  {
   "cell_type": "code",
   "execution_count": null,
   "id": "dd299698",
   "metadata": {},
   "outputs": [],
   "source": []
  },
  {
   "cell_type": "code",
   "execution_count": null,
   "id": "c040f68a",
   "metadata": {},
   "outputs": [],
   "source": []
  },
  {
   "cell_type": "code",
   "execution_count": null,
   "id": "275e483d",
   "metadata": {},
   "outputs": [],
   "source": []
  }
 ],
 "metadata": {
  "kernelspec": {
   "display_name": "Python 3 (ipykernel)",
   "language": "python",
   "name": "python3"
  },
  "language_info": {
   "codemirror_mode": {
    "name": "ipython",
    "version": 3
   },
   "file_extension": ".py",
   "mimetype": "text/x-python",
   "name": "python",
   "nbconvert_exporter": "python",
   "pygments_lexer": "ipython3",
   "version": "3.11.4"
  }
 },
 "nbformat": 4,
 "nbformat_minor": 5
}
